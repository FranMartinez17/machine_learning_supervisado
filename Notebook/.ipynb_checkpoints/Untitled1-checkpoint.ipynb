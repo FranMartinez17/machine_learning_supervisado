{
 "cells": [
  {
   "cell_type": "markdown",
   "id": "35d98caa",
   "metadata": {},
   "source": [
    "# Missing values, outlier y correlaciones"
   ]
  },
  {
   "cell_type": "markdown",
   "id": "1395847d",
   "metadata": {},
   "source": [
    "A continuación se realizará un estudio y procesimiento de las variables categóricas y numéricas"
   ]
  },
  {
   "cell_type": "markdown",
   "id": "e0b1ef7c",
   "metadata": {},
   "source": [
    "## Importación de librerías"
   ]
  },
  {
   "cell_type": "code",
   "execution_count": null,
   "id": "f5aab12a",
   "metadata": {},
   "outputs": [],
   "source": [
    "import pandas as pd\n",
    "import numpy as np\n",
    "import seaborn as sns\n",
    "from matplotlib import pyplot as plt\n",
    "import plotly.express as px\n",
    "from sklearn.impute import KNNImputer\n",
    "import scipy.stats as ss\n",
    "import warnings\n",
    "\n",
    "pd.set_option('display.max_columns', 500)\n",
    "pd.set_option('display.max_rows', 5000)"
   ]
  },
  {
   "cell_type": "markdown",
   "id": "756814a4",
   "metadata": {},
   "source": [
    "## Lectura de datos del preprocesado inicial\n",
    "Leemos el documento csv creado en el anterior notebook"
   ]
  },
  {
   "cell_type": "code",
   "execution_count": null,
   "id": "e3f735a3",
   "metadata": {},
   "outputs": [],
   "source": [
    "pd_loan = pd.read_csv(\"./data_initial_preprocessing.csv\")\\\n",
    "            .drop('emp_title',axis=1)\n",
    "pd_loan.shape"
   ]
  },
  {
   "cell_type": "code",
   "execution_count": null,
   "id": "c2358469",
   "metadata": {},
   "outputs": [],
   "source": [
    "list_var_cat, other = dame_variables_categoricas(dataset=data)\n",
    "data[list_var_cat] = data[list_var_cat].astype(\"category\")\n",
    "list_var_continuous = list(data.select_dtypes('float').columns)\n",
    "data[list_var_continuous] = data[list_var_continuous].astype(float)\n",
    "data.dtypes"
   ]
  },
  {
   "cell_type": "markdown",
   "id": "b440ad40",
   "metadata": {},
   "source": [
    "## Visualización descriptiva de los datos"
   ]
  },
  {
   "cell_type": "code",
   "execution_count": null,
   "id": "6cd1ad24",
   "metadata": {},
   "outputs": [],
   "source": [
    "for i in list(pd_loan_train.columns):\n",
    "    if (pd_loan_train[i].dtype==float) & (i!='loan_status'):\n",
    "        plot_feature(pd_loan_train, col_name=i, isContinuous=True, target='loan_status')\n",
    "    elif  i!='loan_status':\n",
    "        plot_feature(pd_loan_train, col_name=i, isContinuous=False, target='loan_status')\n",
    "        \n",
    "#No hay numeros nulos asi que no creo que haya que hacer esto!!!"
   ]
  },
  {
   "cell_type": "markdown",
   "id": "54ca6aff",
   "metadata": {},
   "source": [
    "## Tratamiento de outliers y correlaciones\n",
    "### Tratamiento de outliers"
   ]
  },
  {
   "cell_type": "code",
   "execution_count": null,
   "id": "014f0d88",
   "metadata": {},
   "outputs": [],
   "source": [
    "get_deviation_of_mean_perc(pd_loan_train, list_var_continuous, target='loan_status', multiplier=3)"
   ]
  },
  {
   "cell_type": "markdown",
   "id": "5a496ff6",
   "metadata": {},
   "source": [
    "### Correlaciones"
   ]
  },
  {
   "cell_type": "code",
   "execution_count": null,
   "id": "af35bdd7",
   "metadata": {},
   "outputs": [],
   "source": [
    "get_corr_matrix(dataset = pd_loan_train[list_var_continuous], \n",
    "                metodo='pearson', size_figure=[10,8])"
   ]
  },
  {
   "cell_type": "code",
   "execution_count": null,
   "id": "f31e5211",
   "metadata": {},
   "outputs": [],
   "source": [
    "corr = pd_loan_train[list_var_continuous].corr('pearson')\n",
    "new_corr = corr.abs()\n",
    "new_corr.loc[:,:] = np.tril(new_corr, k=-1) # below main lower triangle of an array\n",
    "new_corr = new_corr.stack().to_frame('correlation').reset_index().sort_values(by='correlation', ascending=False)\n",
    "new_corr[new_corr['correlation']>0.6]"
   ]
  },
  {
   "cell_type": "markdown",
   "id": "218634d1",
   "metadata": {},
   "source": [
    "## Tratamiento de variables categóricas"
   ]
  },
  {
   "cell_type": "code",
   "execution_count": null,
   "id": "271b704b",
   "metadata": {},
   "outputs": [],
   "source": [
    "list_var_cat"
   ]
  },
  {
   "cell_type": "code",
   "execution_count": null,
   "id": "dc965381",
   "metadata": {},
   "outputs": [],
   "source": [
    "confusion_matrix = pd.crosstab(pd_loan_input_train[\"loan_status\"], pd_loan_input_train[\"grade\"])\n",
    "print(confusion_matrix)\n",
    "cramers_v(confusion_matrix.values)"
   ]
  },
  {
   "cell_type": "code",
   "execution_count": null,
   "id": "c0558b1b",
   "metadata": {},
   "outputs": [],
   "source": [
    "confusion_matrix = pd.crosstab(pd_loan_input_train[\"loan_status\"], pd_loan_input_train[\"loan_status\"])\n",
    "cramers_v(confusion_matrix.values)"
   ]
  },
  {
   "cell_type": "markdown",
   "id": "5e0c862e",
   "metadata": {},
   "source": [
    "## Guardar la tabla"
   ]
  },
  {
   "cell_type": "code",
   "execution_count": null,
   "id": "4e58f504",
   "metadata": {},
   "outputs": [],
   "source": [
    "pd_loan_input_train.to_csv(\"./data_preprocessing/train_pd_data_preprocessing_missing_outlier.csv\")"
   ]
  }
 ],
 "metadata": {
  "kernelspec": {
   "display_name": "practice0",
   "language": "python",
   "name": "practice0"
  },
  "language_info": {
   "codemirror_mode": {
    "name": "ipython",
    "version": 3
   },
   "file_extension": ".py",
   "mimetype": "text/x-python",
   "name": "python",
   "nbconvert_exporter": "python",
   "pygments_lexer": "ipython3",
   "version": "3.9.13"
  }
 },
 "nbformat": 4,
 "nbformat_minor": 5
}
